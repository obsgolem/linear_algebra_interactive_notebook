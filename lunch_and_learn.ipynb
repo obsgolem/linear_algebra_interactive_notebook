{
 "cells": [
  {
   "cell_type": "markdown",
   "metadata": {
    "slideshow": {
     "slide_type": "slide"
    }
   },
   "source": [
    "# Vector Spaces\n",
    "* What is a vector?\n",
    "    * Vectors are not lists of numbers (necessarily)\n",
    "* Children have an intuitive idea of what vectors are\n",
    "* A first definition of a vector\n",
    "    * Vectors are a quantity with direction and length\n",
    "    * Examples: 5 meters (length) to your left (direction). 20 miles (length) north (direction)"
   ]
  },
  {
   "cell_type": "code",
   "execution_count": 14,
   "metadata": {
    "jupyter": {
     "source_hidden": true
    },
    "slideshow": {
     "slide_type": "skip"
    },
    "tags": []
   },
   "outputs": [
    {
     "data": {
      "application/vnd.jupyter.widget-view+json": {
       "model_id": "ac1d97c780594b58ae7ff8679cf9c080",
       "version_major": 2,
       "version_minor": 0
      },
      "text/plain": [
       "interactive(children=(IntSlider(value=180, description='angle', max=360, step=10), Output()), _dom_classes=('w…"
      ]
     },
     "metadata": {},
     "output_type": "display_data"
    }
   ],
   "source": [
    "%matplotlib inline\n",
    "\n",
    "from matplotlib import pyplot as plt \n",
    "import matplotlib as mpl\n",
    "import numpy as np\n",
    "from ipywidgets import interact\n",
    "from mpl_toolkits.mplot3d import Axes3D\n",
    "from matplotlib.patches import ConnectionPatch\n",
    "\n",
    "def create_func_vis(num_funcs=1):\n",
    "    fig, axs = plt.subplots(1, num_funcs+1)\n",
    "    for ax in axs:\n",
    "        ax.set_xlim(-2, 2)\n",
    "        ax.set_ylim(-2, 2)\n",
    "        ax.set_xticks([])\n",
    "        ax.set_yticks([])\n",
    "        ax.set_aspect('equal', adjustable='box')\n",
    "    for i in range(num_funcs):\n",
    "        con = ConnectionPatch(xyA=(0,0), xyB=(0,0), coordsA=\"data\", coordsB=\"data\", axesA=axs[i], axesB=axs[i+1], arrowstyle=\"->\", alpha=0.5)\n",
    "        axs[i+1].add_artist(con)\n",
    "    return fig, axs\n",
    "\n",
    "def plot_vec(x, y, u, v, ax=plt, **kwargs):\n",
    "    return ax.quiver(x, y, u, v, angles='xy', units=\"xy\", scale=1, scale_units=\"xy\", **kwargs)\n",
    "\n",
    "def plot_vec3(x, y, z, u, v, w, **kwargs):\n",
    "    return plt.quiver(x, y, z, u, v, w, **kwargs)\n",
    "\n",
    "def plot_vec_at_origin(vecs: np.ndarray, color='black', ax=plt):\n",
    "    if len(vecs.shape) == 1:\n",
    "        vecs = vecs.reshape(1, 2)\n",
    "    o = np.zeros(vecs.shape[0])\n",
    "    return ax.quiver(o, o, vecs[:, 0], vecs[:, 1], color=color, angles='xy', units=\"xy\", scale=1, scale_units=\"xy\")\n",
    "\n",
    "def plot_vec3_at_origin(ax, vecs: np.ndarray, color='black'):\n",
    "    if len(vecs.shape) == 1:\n",
    "        vecs = vecs.reshape(1, 3)\n",
    "    o = np.zeros(vecs.shape[0])\n",
    "    return ax.quiver(o, o, o, vecs[:, 0], vecs[:, 1], vecs[:, 2], color=color)\n",
    "\n",
    "def rotation(theta):\n",
    "    c, s = np.cos(np.radians(theta)), np.sin(np.radians(theta))\n",
    "    return np.array(((c, -s), (s, c)))\n",
    "\n",
    "def get_vec(angle, length):\n",
    "    return rotation(angle)@np.array((length,0))\n",
    "\n",
    "@interact(angle=(0, 360, 10))\n",
    "def demonstrate_no_coord_grid(angle):\n",
    "    plt.xlim(-2, 2)\n",
    "    plt.ylim(-2, 2)\n",
    "    plt.axis('off')\n",
    "    plt.gca().set_aspect('equal', adjustable='box')\n",
    "    rot = rotation(angle)\n",
    "    vecs = np.array((rot @ np.array([1, 1]), rot @ np.array([0, -1])))\n",
    "    plot_vec_at_origin(vecs)\n",
    "    plt.plot(0, 0, 'o', color=\"black\")"
   ]
  },
  {
   "cell_type": "markdown",
   "metadata": {
    "slideshow": {
     "slide_type": "slide"
    }
   },
   "source": [
    "* Coordinate grids are extra structure that we will add in shortly. They are not necessarily part of vectors"
   ]
  },
  {
   "cell_type": "markdown",
   "metadata": {
    "slideshow": {
     "slide_type": "slide"
    }
   },
   "source": [
    "* Because vectors have a length, they can be scaled up or down by an arbitrary real number\n",
    "    * Negative scaling corresponds to opposite direction"
   ]
  },
  {
   "cell_type": "code",
   "execution_count": 15,
   "metadata": {
    "jupyter": {
     "source_hidden": true
    },
    "slideshow": {
     "slide_type": "skip"
    },
    "tags": []
   },
   "outputs": [
    {
     "data": {
      "application/vnd.jupyter.widget-view+json": {
       "model_id": "8bdea20f4c65493b92c9b66b8816e431",
       "version_major": 2,
       "version_minor": 0
      },
      "text/plain": [
       "interactive(children=(FloatSlider(value=0.0, description='len', max=2.0, min=-2.0), Output()), _dom_classes=('…"
      ]
     },
     "metadata": {},
     "output_type": "display_data"
    }
   ],
   "source": [
    "@interact(len=(-2, 2, 0.1))\n",
    "def demonstrate_scaling(len):\n",
    "    plt.xlim(-2, 2)\n",
    "    plt.ylim(-2, 2)\n",
    "    plt.axis('off')\n",
    "    plt.gca().set_aspect('equal', adjustable='box')\n",
    "    vecs = len * np.array([1, 1])\n",
    "    plot_vec_at_origin(vecs)\n",
    "    plt.plot(0, 0, 'o', color=\"black\")"
   ]
  },
  {
   "cell_type": "markdown",
   "metadata": {
    "slideshow": {
     "slide_type": "slide"
    }
   },
   "source": [
    "* Vectors can also be added together. \n",
    "    * Adding a vector $a$ to a vector $b$ produces a new vector $a+b$ by putting the tail of the second vector at the tip of the first vector\n",
    "    * This can be done in either order, producing a sort of parallelogram\n",
    "        * This is called the commutative law\n",
    "    * Example:"
   ]
  },
  {
   "cell_type": "code",
   "execution_count": 16,
   "metadata": {
    "jupyter": {
     "source_hidden": true
    },
    "slideshow": {
     "slide_type": "skip"
    },
    "tags": []
   },
   "outputs": [
    {
     "name": "stdout",
     "output_type": "stream",
     "text": [
      "Control the angle and size of the red arrow\n"
     ]
    },
    {
     "data": {
      "application/vnd.jupyter.widget-view+json": {
       "model_id": "3769250bd83b49b6a5061731b4802502",
       "version_major": 2,
       "version_minor": 0
      },
      "text/plain": [
       "interactive(children=(IntSlider(value=180, description='angle', max=360, step=10), FloatSlider(value=1.0, desc…"
      ]
     },
     "metadata": {},
     "output_type": "display_data"
    }
   ],
   "source": [
    "print(\"Control the angle and size of the red arrow\")\n",
    "@interact(angle=(0, 360, 10), length=(0.1, 2, 0.1))\n",
    "def demonstrate_vector_addition(angle, length):\n",
    "    plt.figure()\n",
    "    plt.xlim(-2, 2)\n",
    "    plt.ylim(-2, 2)\n",
    "    plt.axis('off')\n",
    "    plt.gca().set_aspect('equal', adjustable='box')\n",
    "    rot = rotation(angle)\n",
    "    vecs = np.array((get_vec(angle, length), [1, 1]))\n",
    "    plot_vec_at_origin(vecs, color=['red', \"blue\"])\n",
    "    plot_vec_at_origin(vecs[0]+vecs[1])\n",
    "    plot_vec(vecs[:, 0], vecs[:, 1], vecs[::-1, 0], vecs[::-1, 1], color=[\"blue\", 'red'])\n",
    "    plt.plot(0, 0, 'o', color=\"black\")"
   ]
  },
  {
   "cell_type": "markdown",
   "metadata": {
    "slideshow": {
     "slide_type": "slide"
    }
   },
   "source": [
    "* There are other operations on vectors I won't be covering in detail today\n",
    "    * Dot product, cross product, tensor product, outer product, clifford product, determinant, etc...\n"
   ]
  },
  {
   "cell_type": "markdown",
   "metadata": {
    "slideshow": {
     "slide_type": "slide"
    }
   },
   "source": [
    "* I claim that anything which has an addition and a scaling operation can be thought of as a vector\n",
    "    * In other words, given a real number, like $\\pi=3.1415\\dots$, you must be able to form the vector $\\pi v$\n",
    "    * And you must be able to add $u$ to $v$ to get $u+v$\n",
    "    * Anything with these two operations we will call a **vector space**"
   ]
  },
  {
   "cell_type": "markdown",
   "metadata": {
    "slideshow": {
     "slide_type": "slide"
    }
   },
   "source": [
    "* Some examples:\n",
    "    * The set of arrows in the 2d plane, without any coordinate grid forms a vector space as we saw above\n",
    "    * The set of lists of 3 numbers, called $\\mathbb{R}^3$ is a vector space\n",
    "    $$\\begin{bmatrix}1 \\\\2 \\\\3\\end{bmatrix} +\\begin{bmatrix}4 \\\\5 \\\\6\\end{bmatrix} =\\begin{bmatrix}5 \\\\7 \\\\9\\end{bmatrix}$$\n",
    "    \n",
    "    * More generally, the set of lists of $n$ numbers is called $\\mathbb{R}^n$\n",
    "    * The set of polynomials in a single variable is a vector space\n",
    "        $(x^2+2x+3)+(4x^2+5x+6)=5x^2+7x+9$"
   ]
  },
  {
   "cell_type": "markdown",
   "metadata": {
    "slideshow": {
     "slide_type": "slide"
    }
   },
   "source": [
    "# Linear Independence, Span, and Bases\n",
    "* Now that we have a working definition of a vector (an element of some vector space), we can begin to introduce coordinate grids to things in the form of a basis\n",
    "* In order to define a basis we need to define some other terms first"
   ]
  },
  {
   "cell_type": "markdown",
   "metadata": {
    "slideshow": {
     "slide_type": "slide"
    }
   },
   "source": [
    "* Linear combinations\n",
    "    * A linear combination of a set of vectors is a sum of the vectors, each with a scale factor applied.\n",
    "    * A linear combination of the vectors $u$ and $v$ is written as $au+by$.\n",
    "    * An example of a linear combination of vectors in $\\mathbb{R}^3$:\n",
    "    $$3\\begin{bmatrix}1 \\\\0 \\\\0\\end{bmatrix} +2\\begin{bmatrix}0 \\\\1 \\\\0\\end{bmatrix} +5\\begin{bmatrix}0\\\\0\\\\1\\end{bmatrix}=\\begin{bmatrix}3 \\\\2 \\\\5\\end{bmatrix}$$"
   ]
  },
  {
   "cell_type": "markdown",
   "metadata": {
    "slideshow": {
     "slide_type": "slide"
    },
    "tags": []
   },
   "source": [
    "* Linear independence\n",
    "    * A set of vectors is **linearly independent** if it contains no redundant vectors\n",
    "    * In other words, no vector in the set can be written as a linear combination of the others\n",
    "    * Examples:"
   ]
  },
  {
   "cell_type": "code",
   "execution_count": 17,
   "metadata": {
    "jupyter": {
     "source_hidden": true
    },
    "slideshow": {
     "slide_type": "skip"
    },
    "tags": []
   },
   "outputs": [
    {
     "data": {
      "image/png": "[encoded data removed]",
      "text/plain": [
       "<Figure size 432x288 with 1 Axes>"
      ]
     },
     "metadata": {
      "needs_background": "light"
     },
     "output_type": "display_data"
    },
    {
     "data": {
      "image/png": "[encoded data removed]",
      "text/plain": [
       "<Figure size 432x288 with 1 Axes>"
      ]
     },
     "metadata": {
      "needs_background": "light"
     },
     "output_type": "display_data"
    },
    {
     "data": {
      "image/png": "[encoded data removed]",
      "text/plain": [
       "<Figure size 432x288 with 1 Axes>"
      ]
     },
     "metadata": {
      "needs_background": "light"
     },
     "output_type": "display_data"
    },
    {
     "data": {
      "image/png": "[encoded data removed]",
      "text/plain": [
       "<Figure size 432x288 with 1 Axes>"
      ]
     },
     "metadata": {
      "needs_background": "light"
     },
     "output_type": "display_data"
    }
   ],
   "source": [
    "def demonstrate_linear_independence_1():\n",
    "    plt.figure()\n",
    "    plt.xlim(-2, 2)\n",
    "    plt.ylim(-2, 2)\n",
    "    plt.axis('off')\n",
    "    plt.gca().set_aspect('equal', adjustable='box')\n",
    "    vecs = np.array(((1,0), (0, 1)))\n",
    "    plot_vec_at_origin(vecs)\n",
    "    return plt.gcf()\n",
    "demonstrate_linear_independence_1()\n",
    "\n",
    "def demonstrate_linear_independence_2():\n",
    "    plt.figure()\n",
    "    plt.xlim(-2, 2)\n",
    "    plt.ylim(-2, 2)\n",
    "    plt.axis('off')\n",
    "    plt.gca().set_aspect('equal', adjustable='box')\n",
    "    vecs = np.array(((1,1), (0, 1)))\n",
    "    plot_vec_at_origin(vecs)\n",
    "    return plt.gcf()\n",
    "demonstrate_linear_independence_2()\n",
    "\n",
    "def demonstrate_linear_independence_3():\n",
    "    fig = plt.figure()\n",
    "    ax = fig.add_subplot(111, projection='3d')\n",
    "    ax.set_xlim([-2, 2])\n",
    "    ax.set_ylim([-2, 2])\n",
    "    ax.set_zlim([-2, 2])\n",
    "    plot_vec3_at_origin(ax, np.array(((0, 1, 0), (1,0,0), (0, 0, 1))))\n",
    "    return fig\n",
    "demonstrate_linear_independence_3();\n",
    "\n",
    "def demonstrate_linear_independence_4():\n",
    "    fig = plt.figure()\n",
    "    ax = fig.add_subplot(111, projection='3d')\n",
    "    ax.set_xlim([-2, 2])\n",
    "    ax.set_ylim([-2, 2])\n",
    "    ax.set_zlim([-2, 2])\n",
    "    plot_vec3_at_origin(ax, np.array(((0, 1, 1), (1,0,0), (0, 0, 1))))\n",
    "    return fig\n",
    "demonstrate_linear_independence_4();"
   ]
  },
  {
   "cell_type": "markdown",
   "metadata": {
    "slideshow": {
     "slide_type": "slide"
    },
    "tags": []
   },
   "source": [
    "* A set of vectors is linearly dependent if it contains extra, redundant vectors\n",
    "    * In other words, some vector can be written as a linear combination of the other vectors\n",
    "    * Examples:"
   ]
  },
  {
   "cell_type": "code",
   "execution_count": 18,
   "metadata": {
    "jupyter": {
     "source_hidden": true
    },
    "slideshow": {
     "slide_type": "skip"
    },
    "tags": []
   },
   "outputs": [
    {
     "data": {
      "image/png": "[encoded data removed]",
      "text/plain": [
       "<Figure size 432x288 with 1 Axes>"
      ]
     },
     "metadata": {
      "needs_background": "light"
     },
     "output_type": "display_data"
    },
    {
     "data": {
      "image/png": "[encoded data removed]",
      "text/plain": [
       "<Figure size 432x288 with 1 Axes>"
      ]
     },
     "metadata": {
      "needs_background": "light"
     },
     "output_type": "display_data"
    },
    {
     "data": {
      "image/png": "[encoded data removed]",
      "text/plain": [
       "<Figure size 432x288 with 1 Axes>"
      ]
     },
     "metadata": {
      "needs_background": "light"
     },
     "output_type": "display_data"
    }
   ],
   "source": [
    "def demonstrate_linear_dependence_1():\n",
    "    plt.figure()\n",
    "    plt.xlim(-2, 2)\n",
    "    plt.ylim(-2, 2)\n",
    "    plt.axis('off')\n",
    "    plt.gca().set_aspect('equal', adjustable='box')\n",
    "    vecs = np.array(((2,0), (1,0)))\n",
    "    plot_vec_at_origin(vecs, color=[\"red\", \"blue\"])\n",
    "    return plt.gcf()\n",
    "demonstrate_linear_dependence_1();\n",
    "\n",
    "def demonstrate_linear_dependence_2():\n",
    "    plt.figure()\n",
    "    plt.xlim(-2, 2)\n",
    "    plt.ylim(-2, 2)\n",
    "    plt.axis('off')\n",
    "    plt.gca().set_aspect('equal', adjustable='box')\n",
    "    vecs = np.array((get_vec(0, 1), [1, 1]))\n",
    "    plot_vec_at_origin(vecs)\n",
    "    plot_vec_at_origin(vecs[0]+vecs[1])\n",
    "    plt.plot(0, 0, 'o', color=\"black\")\n",
    "demonstrate_linear_dependence_2();\n",
    "\n",
    "def demonstrate_linear_dependence_3():\n",
    "    fig = plt.figure()\n",
    "    ax = fig.add_subplot(111, projection='3d')\n",
    "    ax.set_xlim([-2, 2])\n",
    "    ax.set_ylim([-2, 2])\n",
    "    ax.set_zlim([-2, 2])\n",
    "    plot_vec3_at_origin(ax, np.array(((1, 1, 0), (1,0,0), (0, 1, 0))))\n",
    "    return fig\n",
    "demonstrate_linear_dependence_3();"
   ]
  },
  {
   "cell_type": "markdown",
   "metadata": {
    "slideshow": {
     "slide_type": "slide"
    },
    "tags": []
   },
   "source": [
    "* Span\n",
    "    * The next notion we need to define is that of a span of a set of vectors\n",
    "    * Every vector in the plane can be written as a linear combination of the following two vectors:"
   ]
  },
  {
   "cell_type": "code",
   "execution_count": 19,
   "metadata": {
    "jupyter": {
     "source_hidden": true
    },
    "slideshow": {
     "slide_type": "skip"
    },
    "tags": []
   },
   "outputs": [
    {
     "data": {
      "image/png": "[encoded data removed]",
      "text/plain": [
       "<Figure size 432x288 with 1 Axes>"
      ]
     },
     "metadata": {
      "needs_background": "light"
     },
     "output_type": "display_data"
    }
   ],
   "source": [
    "demonstrate_linear_independence_1();"
   ]
  },
  {
   "cell_type": "markdown",
   "metadata": {},
   "source": [
    "* Next we demonstrate why this happens. \n",
    "    * Note how you can stretch the blue and red vectors to reach any vector on the plane:"
   ]
  },
  {
   "cell_type": "code",
   "execution_count": 20,
   "metadata": {
    "jupyter": {
     "source_hidden": true
    },
    "slideshow": {
     "slide_type": "skip"
    },
    "tags": []
   },
   "outputs": [
    {
     "data": {
      "application/vnd.jupyter.widget-view+json": {
       "model_id": "a8586fe4644f428aa35725387eabce5d",
       "version_major": 2,
       "version_minor": 0
      },
      "text/plain": [
       "interactive(children=(FloatSlider(value=0.0, description='l1', max=2.0, min=-2.0), FloatSlider(value=0.0, desc…"
      ]
     },
     "metadata": {},
     "output_type": "display_data"
    }
   ],
   "source": [
    "@interact(l1=(-2, 2, 0.1), l2=(-2, 2, 0.1))\n",
    "def demonstrate_span(l1, l2):\n",
    "    plt.figure()\n",
    "    plt.xlim(-2, 2)\n",
    "    plt.ylim(-2, 2)\n",
    "    plt.axis('off')\n",
    "    plt.gca().set_aspect('equal', adjustable='box')\n",
    "    vec1 = l1 * np.array((1,0))\n",
    "    vec2 = l2 * np.array((1,1))\n",
    "    plot_vec_at_origin(vec1, color='red')\n",
    "    plot_vec(vec1[0], vec1[1], vec2[0], vec2[1], color=\"blue\")\n",
    "    plt.plot(0, 0, 'o', color=\"black\")"
   ]
  },
  {
   "cell_type": "markdown",
   "metadata": {
    "slideshow": {
     "slide_type": "slide"
    },
    "tags": []
   },
   "source": [
    "* Given a set of vectors, the set of all linear combinations of those vectors is called the **span** of that set\n",
    "* Example:\n",
    "    * The span of the two vectors visualized on the next slide is the entire green plane"
   ]
  },
  {
   "cell_type": "code",
   "execution_count": 21,
   "metadata": {
    "jupyter": {
     "source_hidden": true
    },
    "slideshow": {
     "slide_type": "skip"
    },
    "tags": []
   },
   "outputs": [
    {
     "data": {
      "application/vnd.jupyter.widget-view+json": {
       "model_id": "4574a556e10e4e5987eb2db5fc3bad62",
       "version_major": 2,
       "version_minor": 0
      },
      "text/plain": [
       "interactive(children=(IntSlider(value=40, description='angle', max=80, step=10), Output()), _dom_classes=('wid…"
      ]
     },
     "metadata": {},
     "output_type": "display_data"
    }
   ],
   "source": [
    "@interact(angle=(0, 80, 10))\n",
    "def demonstrate_span(angle):\n",
    "    vec1 = np.array((1, 0, 0))\n",
    "    vec2 = np.array((0, np.cos(np.radians(angle)), np.sin(np.radians(angle))))\n",
    "    normal = np.cross(vec1, vec2)\n",
    "    x, y = np.meshgrid(np.arange(-2, 2, 0.1), np.arange(-2, 2, 0.1))\n",
    "    z = (-normal[0] * x - normal[1] * y) * 1. /normal[2]\n",
    "    fig = plt.figure()\n",
    "    ax = fig.add_subplot(111, projection='3d')\n",
    "    ax.set_xlim([-2, 2])\n",
    "    ax.set_ylim([-2, 2])\n",
    "    ax.set_zlim([-2, 2])\n",
    "    # display(np.stack(vec1, vec2))\n",
    "    plot_vec3_at_origin(ax, np.stack((vec1, vec2)))\n",
    "    art = ax.plot_surface(x, y, z, color = 'g')\n",
    "    art.set_alpha(0.5)\n",
    "    return fig"
   ]
  },
  {
   "cell_type": "markdown",
   "metadata": {
    "slideshow": {
     "slide_type": "slide"
    },
    "tags": []
   },
   "source": [
    "* Basis\n",
    "    * If a set of vectors is linearly independent, then it is said to be the basis for its span\n",
    "    * We say that a basis is a linearly independent spanning set\n",
    "    * Examples:\n",
    "        * The two vectors above are a basis for the green plane\n",
    "        * Any of the examples of linearly independent sets are also basis for the plane/space"
   ]
  },
  {
   "cell_type": "markdown",
   "metadata": {
    "slideshow": {
     "slide_type": "slide"
    },
    "tags": []
   },
   "source": [
    "* Rephrasing the definition:\n",
    "    * A set of vectors is a basis for a vector space if *every vector* can be written *uniquely* as a linear combination of the basis vectors"
   ]
  },
  {
   "cell_type": "markdown",
   "metadata": {
    "slideshow": {
     "slide_type": "slide"
    },
    "tags": []
   },
   "source": [
    "* A stray definition\n",
    "    * We won't use this definition today, but the number of vectors in every basis of a vector space is the same\n",
    "    * This number is called the dimension of the vector space\n",
    "    * The dimension of the vector space of arrows in the plane is 2, as you would expect\n",
    "    * The dimension of $\\mathbb{R}^n$ is $n$, as you would expect\n",
    "    * The dimension of the set of all polynomials is infinite\n",
    "        * Basis: $1, x, x^2, x^3, x^4, x^5, \\dots$"
   ]
  },
  {
   "cell_type": "markdown",
   "metadata": {
    "slideshow": {
     "slide_type": "slide"
    },
    "tags": []
   },
   "source": [
    "* All of this together shows us that there are a lot of different bases for the same vector space\n",
    "    * Bases are arbitrary, and our vector space of arrows doesn't come with a default choice\n",
    "    * $\\mathbb{R}^3$ does come with a canonical choice of basis though:\n",
    "        $$\\begin{bmatrix}1 \\\\0 \\\\0\\end{bmatrix},\\begin{bmatrix}0 \\\\1 \\\\0\\end{bmatrix},\\begin{bmatrix}0\\\\0\\\\1\\end{bmatrix}$$"
   ]
  },
  {
   "cell_type": "markdown",
   "metadata": {
    "slideshow": {
     "slide_type": "slide"
    },
    "tags": []
   },
   "source": [
    "# Linear transformations\n",
    "- Recall the definition of a function in math:\n",
    "    - a function $f$ takes a vector $v$ and produces an output vector $f(v)$. The vector it produces is always the same given the same input vector\n",
    "    - Functions have a **domain** and a **codomain**, representing the vector spaces that the input and output are in.\n",
    "    - If the input space is $V$ and the output space is $W$ we write this as $f: V \\to W$. We read this as \"f is a function from V to W\".\n",
    "- A linear transform is a function satisfying an additional property: linearity\n",
    "    - Preservation of addition: $f(u+v)=f(u)+f(v)$\n",
    "    - Preservation of scaling: $f(cv)=cf(v)$\n",
    "- Linearity is sort of like the distributive law and commutative law combined.\n",
    "- Examples:"
   ]
  },
  {
   "cell_type": "code",
   "execution_count": 22,
   "metadata": {
    "jupyter": {
     "source_hidden": true
    },
    "slideshow": {
     "slide_type": "skip"
    },
    "tags": []
   },
   "outputs": [
    {
     "data": {
      "application/vnd.jupyter.widget-view+json": {
       "model_id": "ce6ca8e69f824e3c89dfe66ac26b9f33",
       "version_major": 2,
       "version_minor": 0
      },
      "text/plain": [
       "interactive(children=(FloatSlider(value=0.0, description='l1', max=2.0, min=-2.0), FloatSlider(value=0.0, desc…"
      ]
     },
     "metadata": {},
     "output_type": "display_data"
    },
    {
     "data": {
      "application/vnd.jupyter.widget-view+json": {
       "model_id": "5ff181af232f477da50c1d0e915dc186",
       "version_major": 2,
       "version_minor": 0
      },
      "text/plain": [
       "interactive(children=(FloatSlider(value=0.0, description='l1', max=2.0, min=-2.0), FloatSlider(value=0.0, desc…"
      ]
     },
     "metadata": {},
     "output_type": "display_data"
    },
    {
     "data": {
      "application/vnd.jupyter.widget-view+json": {
       "model_id": "c06cc5299097462581e383c32d03d3ca",
       "version_major": 2,
       "version_minor": 0
      },
      "text/plain": [
       "interactive(children=(FloatSlider(value=0.0, description='l1', max=2.0, min=-2.0), FloatSlider(value=0.0, desc…"
      ]
     },
     "metadata": {},
     "output_type": "display_data"
    },
    {
     "data": {
      "application/vnd.jupyter.widget-view+json": {
       "model_id": "18d5c5dd81ba459588e33baae6718d1d",
       "version_major": 2,
       "version_minor": 0
      },
      "text/plain": [
       "interactive(children=(FloatSlider(value=0.0, description='l1', max=2.0, min=-2.0), FloatSlider(value=0.0, desc…"
      ]
     },
     "metadata": {},
     "output_type": "display_data"
    }
   ],
   "source": [
    "@interact(l1=(-2, 2, 0.1), l2=(-2, 2, 0.1))\n",
    "def demonstrate_linear_transform_1(l1, l2):\n",
    "    fig, ax = create_func_vis()\n",
    "    vec1 = l1 * np.array((1,0.5))\n",
    "    vec2 = l2 * np.array((1,1))\n",
    "    plot_vec_at_origin(vec1, color='red', ax=ax[0])\n",
    "    plot_vec(vec1[0], vec1[1], vec2[0], vec2[1], color=\"blue\", ax=ax[0])\n",
    "    ax[0].plot(0, 0, 'o', color=\"black\")\n",
    "\n",
    "    vec1 = 2 * vec1\n",
    "    vec2 = 2 * vec2\n",
    "\n",
    "    plot_vec_at_origin(vec1, color='red', ax=ax[1])\n",
    "    plot_vec(vec1[0], vec1[1], vec2[0], vec2[1], color=\"blue\", ax=ax[1])\n",
    "    ax[1].plot(0, 0, 'o', color=\"black\")\n",
    "\n",
    "@interact(l1=(-2, 2, 0.1), l2=(-2, 2, 0.1))\n",
    "def demonstrate_linear_transform_2(l1, l2):\n",
    "    fig, ax = create_func_vis()\n",
    "    vec1 = l1 * np.array((1,0.5))\n",
    "    vec2 = l2 * np.array((1,1))\n",
    "    plot_vec_at_origin(vec1, color='red', ax=ax[0])\n",
    "    plot_vec(vec1[0], vec1[1], vec2[0], vec2[1], color=\"blue\", ax=ax[0])\n",
    "    ax[0].plot(0, 0, 'o', color=\"black\")\n",
    "\n",
    "    rot = rotation(30)\n",
    "    vec1 = rot @ vec1\n",
    "    vec2 = rot @ vec2\n",
    "\n",
    "    plot_vec_at_origin(vec1, color='red', ax=ax[1])\n",
    "    plot_vec(vec1[0], vec1[1], vec2[0], vec2[1], color=\"blue\", ax=ax[1])\n",
    "    ax[1].plot(0, 0, 'o', color=\"black\")\n",
    "\n",
    "@interact(l1=(-2, 2, 0.1), l2=(-2, 2, 0.1))\n",
    "def demonstrate_linear_transform_3(l1, l2):\n",
    "    fig, ax = create_func_vis()\n",
    "    vec1 = l1 * np.array((1,0))\n",
    "    vec2 = l2 * np.array((0,1))\n",
    "    plot_vec_at_origin(vec1, color='red', ax=ax[0])\n",
    "    plot_vec(vec1[0], vec1[1], vec2[0], vec2[1], color=\"blue\", ax=ax[0])\n",
    "    ax[0].plot(0, 0, 'o', color=\"black\")\n",
    "\n",
    "    skew = np.array(((1,0), (1,1))).T\n",
    "    vec1 = skew @ vec1\n",
    "    vec2 = skew @ vec2\n",
    "\n",
    "    plot_vec_at_origin(vec1, color='red', ax=ax[1])\n",
    "    plot_vec(vec1[0], vec1[1], vec2[0], vec2[1], color=\"blue\", ax=ax[1])\n",
    "    ax[1].plot(0, 0, 'o', color=\"black\")\n",
    "\n",
    "@interact(l1=(-2, 2, 0.1), l2=(-2, 2, 0.1))\n",
    "def demonstrate_linear_transform_4(l1, l2):\n",
    "    fig, ax = create_func_vis()\n",
    "    vec1 = l1 * np.array((1,0))\n",
    "    vec2 = l2 * np.array((0,1))\n",
    "    plot_vec_at_origin(vec1, color='red', ax=ax[0])\n",
    "    plot_vec(vec1[0], vec1[1], vec2[0], vec2[1], color=\"blue\", ax=ax[0])\n",
    "    ax[0].plot(0, 0, 'o', color=\"black\")\n",
    "\n",
    "    ref = np.array(((-1,0), (0,1))).T\n",
    "    vec1 = ref @ vec1\n",
    "    vec2 = ref @ vec2\n",
    "\n",
    "    plot_vec_at_origin(vec1, color='red', ax=ax[1])\n",
    "    plot_vec(vec1[0], vec1[1], vec2[0], vec2[1], color=\"blue\", ax=ax[1])\n",
    "    ax[1].plot(0, 0, 'o', color=\"black\")"
   ]
  },
  {
   "cell_type": "markdown",
   "metadata": {
    "slideshow": {
     "slide_type": "slide"
    },
    "tags": []
   },
   "source": [
    "- Freshman's dream\n",
    "    - A common error by young or inexperience mathematical discipuli is to assume a nonlinear operation is linear. As an example:\n",
    "    - assuming $(x+y)^n=x^n+y^n$\n",
    "- Why is linearity important?\n",
    "    - Lots of reasons: first of all a lot of important functions are linear\n",
    "        - Rotations\n",
    "        - Scaling\n",
    "        - Skewing\n",
    "        - Reflections\n",
    "    - Second of all, they are simpler to deal with, as we shall soon see\n",
    "    - Third, many functions can be approximated by linear functions. Ask if you want further details on this"
   ]
  },
  {
   "cell_type": "markdown",
   "metadata": {
    "slideshow": {
     "slide_type": "slide"
    },
    "tags": []
   },
   "source": [
    "- Composition of linear functions\n",
    "    - Given any two functions, $f$ and $g$, you can form the composition of them: $f(g(v))$.\n",
    "    - This means, first apply the transform $g$, then apply the transform $f$ to the output of it\n",
    "    - Note that in order for functions to be composable their domains and codomains must match up like $f: V \\to W$ and $g: U \\to V$\n",
    "    - The composition of two linear functions is linear:\n",
    "        $$\\begin{align}f(g(au+bv))&=f(g(au)+g(bv))\\\\&= f(ag(u)+bg(v)) \\\\&= af(g(u))+bf(g(v))\\end{align}$$\n",
    "    - Examples:"
   ]
  },
  {
   "cell_type": "code",
   "execution_count": 23,
   "metadata": {
    "jupyter": {
     "source_hidden": true
    },
    "slideshow": {
     "slide_type": "skip"
    },
    "tags": []
   },
   "outputs": [
    {
     "data": {
      "application/vnd.jupyter.widget-view+json": {
       "model_id": "a131776763124063b4f3d288af2237fb",
       "version_major": 2,
       "version_minor": 0
      },
      "text/plain": [
       "interactive(children=(FloatSlider(value=0.0, description='l1', max=2.0, min=-2.0), FloatSlider(value=0.0, desc…"
      ]
     },
     "metadata": {},
     "output_type": "display_data"
    }
   ],
   "source": [
    "@interact(l1=(-2, 2, 0.1), l2=(-2, 2, 0.1))\n",
    "def demonstrate_composition(l1, l2):\n",
    "    fig, ax = create_func_vis(num_funcs=2)\n",
    "    vec1 = l1 * np.array((1,0))\n",
    "    vec2 = l2 * np.array((0,1))\n",
    "\n",
    "    plot_vec_at_origin(vec1, color='red', ax=ax[0])\n",
    "    plot_vec(vec1[0], vec1[1], vec2[0], vec2[1], color=\"blue\", ax=ax[0])\n",
    "    ax[0].plot(0, 0, 'o', color=\"black\")\n",
    "\n",
    "    rot = rotation(30)\n",
    "    vec1 = rot @ vec1\n",
    "    vec2 = rot @ vec2\n",
    "\n",
    "    plot_vec_at_origin(vec1, color='red', ax=ax[1])\n",
    "    plot_vec(vec1[0], vec1[1], vec2[0], vec2[1], color=\"blue\", ax=ax[1])\n",
    "    ax[1].plot(0, 0, 'o', color=\"black\")\n",
    "\n",
    "    skew = np.array(((1,0), (1,1))).T\n",
    "    vec1 = skew @ vec1\n",
    "    vec2 = skew @ vec2\n",
    "\n",
    "    plot_vec_at_origin(vec1, color='red', ax=ax[2])\n",
    "    plot_vec(vec1[0], vec1[1], vec2[0], vec2[1], color=\"blue\", ax=ax[2])\n",
    "    ax[2].plot(0, 0, 'o', color=\"black\")"
   ]
  },
  {
   "cell_type": "markdown",
   "metadata": {
    "slideshow": {
     "slide_type": "slide"
    },
    "tags": []
   },
   "source": [
    "- Isomorphism\n",
    "    - If every vector in the codomain comes from a unique vector in the domain, we call this an isomorphism\n",
    "    - Equivalently, an isomorphism is an invertible linear transform: \n",
    "        - There exists an inverse function $f^{-1}$ such that $f(f^{-1}(v))=v$\n",
    "    - Example: \n",
    "        - The inverse of a 30 deg rotation is a -30 deg rotation"
   ]
  },
  {
   "cell_type": "code",
   "execution_count": 24,
   "metadata": {
    "jupyter": {
     "source_hidden": true
    },
    "slideshow": {
     "slide_type": "skip"
    },
    "tags": []
   },
   "outputs": [
    {
     "data": {
      "application/vnd.jupyter.widget-view+json": {
       "model_id": "2a05a17451dc47e0b4e238f1e744d677",
       "version_major": 2,
       "version_minor": 0
      },
      "text/plain": [
       "interactive(children=(FloatSlider(value=0.0, description='l1', max=2.0, min=-2.0), FloatSlider(value=0.0, desc…"
      ]
     },
     "metadata": {},
     "output_type": "display_data"
    }
   ],
   "source": [
    "@interact(l1=(-2, 2, 0.1), l2=(-2, 2, 0.1))\n",
    "def demonstrate_inverse(l1, l2):\n",
    "    fig, ax = create_func_vis(num_funcs=2)\n",
    "    vec1 = l1 * np.array((1,0))\n",
    "    vec2 = l2 * np.array((0,1))\n",
    "\n",
    "    plot_vec_at_origin(vec1, color='red', ax=ax[0])\n",
    "    plot_vec(vec1[0], vec1[1], vec2[0], vec2[1], color=\"blue\", ax=ax[0])\n",
    "    ax[0].plot(0, 0, 'o', color=\"black\")\n",
    "\n",
    "    rot = rotation(30)\n",
    "    vec1 = rot @ vec1\n",
    "    vec2 = rot @ vec2\n",
    "\n",
    "    plot_vec_at_origin(vec1, color='red', ax=ax[1])\n",
    "    plot_vec(vec1[0], vec1[1], vec2[0], vec2[1], color=\"blue\", ax=ax[1])\n",
    "    ax[1].plot(0, 0, 'o', color=\"black\")\n",
    "\n",
    "    rot = rotation(-30)\n",
    "    vec1 = rot @ vec1\n",
    "    vec2 = rot @ vec2\n",
    "\n",
    "    plot_vec_at_origin(vec1, color='red', ax=ax[2])\n",
    "    plot_vec(vec1[0], vec1[1], vec2[0], vec2[1], color=\"blue\", ax=ax[2])\n",
    "    ax[2].plot(0, 0, 'o', color=\"black\")"
   ]
  },
  {
   "cell_type": "markdown",
   "metadata": {
    "slideshow": {
     "slide_type": "slide"
    },
    "tags": []
   },
   "source": [
    "- A choice of a basis for a vector space is the same as choosing an isomorphism to $\\mathbb{R}^n$ (where $n$ is the dimension).\n",
    "    - We can think of this function as assigning coordinates to every vector in our domain\n",
    "    - Example:\n",
    "        - Assign the vectors $\\begin{bmatrix} 1 \\\\ 0 \\end{bmatrix}, \\begin{bmatrix} 0 \\\\ 1 \\end{bmatrix}$ to the basis below"
   ]
  },
  {
   "cell_type": "code",
   "execution_count": 25,
   "metadata": {
    "jupyter": {
     "source_hidden": true
    },
    "slideshow": {
     "slide_type": "skip"
    },
    "tags": []
   },
   "outputs": [
    {
     "data": {
      "image/png": "[encoded data removed]",
      "text/plain": [
       "<Figure size 432x288 with 1 Axes>"
      ]
     },
     "metadata": {
      "needs_background": "light"
     },
     "output_type": "display_data"
    }
   ],
   "source": [
    "demonstrate_linear_independence_1();"
   ]
  },
  {
   "cell_type": "markdown",
   "metadata": {
    "slideshow": {
     "slide_type": "slide"
    },
    "tags": []
   },
   "source": [
    "# Matrices\n",
    "- Matrices are to basis as coordinates are to vector spaces\n",
    "- Linear transforms are uniquely determined by their value on a basis\n",
    "    - **Very Important**\n",
    "    - Proof:\n",
    "        - Let $x_1, x_2$ be a basis\n",
    "        - Every vector $v$ can be written as $v=ax_1+bx_2$\n",
    "            - We know this is possible since $x_1, x_2$ is a basis\n",
    "        - Now, $f(v)=af(x_1)+bf(x_2)$ \n",
    "    - Therefore we can define any linear transform by just listing what the output of the basis vectors should be\n",
    "        - So, if $f(x_1)=x_3$ and $f(x_2)=x_4$ then we write the linear transform as just $[x_3, x_4]$"
   ]
  },
  {
   "cell_type": "markdown",
   "metadata": {
    "slideshow": {
     "slide_type": "slide"
    },
    "tags": []
   },
   "source": [
    "- Remember that choosing a basis gives vectors coordinates\n",
    "- If we choose a basis, we can write the output vectors in that basis\n",
    "- So, if, in coordinates, $x_3=\\begin{bmatrix}2 \\\\ 3 \\end{bmatrix}$ and $x_4=\\begin{bmatrix} 1 \\\\ 2 \\end{bmatrix}$\n",
    "    - then our matrix becomes $\\begin{bmatrix} 2 & 1 \\\\ 3 & 2 \\end{bmatrix}$\n",
    "- If we work soley in $\\mathbb{R}^n$ then there is another way to say this:\n",
    "    - The first column of the matrix is the output of $\\begin{bmatrix}1\\\\0\\end{bmatrix}$ under the linear transform\n",
    "    - The second column of the matrix is the output of $\\begin{bmatrix}0\\\\1\\end{bmatrix}$ under the linear transform"
   ]
  },
  {
   "cell_type": "markdown",
   "metadata": {
    "slideshow": {
     "slide_type": "slide"
    },
    "tags": []
   },
   "source": [
    "- Composition of linear transforms corresponds to matrix multiplication\n",
    "    - I won't go through all the details, but\n",
    "    - If you have two linear transforms, both of which have the same domain and codomain, then you may choose a basis and get a matrix for each of them\n",
    "    - You may compose them, you get another linear transform\n",
    "        - Hence, the composition has a matrix too\n",
    "    - If you work through the details of this, it turns out that the matrix of the composition corresponds to the matrix multiplication of the matrices of the two transforms\n",
    "    - Example:\n",
    "        - Suppose we want to compose the linear transform whose matrix is $\\begin{bmatrix} 2 & 1 \\\\ 3 & 2 \\end{bmatrix}$ with $\\begin{bmatrix} 3 & 7 \\\\ 1 & 1 \\end{bmatrix}$\n",
    "        - Well, we know that $\\begin{bmatrix} 1\\\\0\\end{bmatrix}$ goes to $\\begin{bmatrix} 2 \\\\ 3 \\end{bmatrix}$\n",
    "        - And we know that $\\begin{bmatrix} 2 \\\\ 3 \\end{bmatrix}$ goes to $2\\begin{bmatrix} 3\\\\1 \\end{bmatrix}+3\\begin{bmatrix} 7 \\\\ 1 \\end{bmatrix}$\n",
    "        - Hence the top left entry is $2*3+3*7$\n",
    "            - But this is the same as what you get when you matrix multiply the above two matrices"
   ]
  },
  {
   "cell_type": "markdown",
   "metadata": {
    "slideshow": {
     "slide_type": "slide"
    },
    "tags": []
   },
   "source": [
    "- To be continued:\n",
    "  - Further topics\n",
    "    - Change of basis formula\n",
    "    - Gauss-Jordan\n",
    "    - Inner products, orthonormality\n",
    "    - Gram-Schimdt\n",
    "      - Interpolation formula for quaternions\n",
    "    - The first isomorphism theorem for inner product spaces\n",
    "    - Eigenvalues\n",
    "    - Determinants\n",
    "    - Duality\n",
    "    - Tensors\n",
    "  - Further material\n",
    "    - [Essense of linear algebra](https://www.youtube.com/playlist?list=PLZHQObOWTQDPD3MizzM2xVFitgF8hE_ab) by 3blue1brown\n",
    "    - Linear algebra done right by Axler\n",
    "    - http://number-none.com/product/Understanding%20Slerp,%20Then%20Not%20Using%20It/"
   ]
  }
 ],
 "metadata": {
  "celltoolbar": "Slideshow",
  "kernelspec": {
   "display_name": "Python 3",
   "language": "python",
   "name": "python3"
  },
  "language_info": {
   "codemirror_mode": {
    "name": "ipython",
    "version": 3
   },
   "file_extension": ".py",
   "mimetype": "text/x-python",
   "name": "python",
   "nbconvert_exporter": "python",
   "pygments_lexer": "ipython3",
   "version": "3.8.8"
  },
  "metadata": {
   "interpreter": {
    "hash": "0600588c3b5f4418cbe7b5ebc6825b479f3bc010269d8b60d75058cdd010adfe"
   }
  },
  "toc-showtags": true
 },
 "nbformat": 4,
 "nbformat_minor": 4
}
